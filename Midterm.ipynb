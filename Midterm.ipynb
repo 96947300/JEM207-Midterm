{
 "cells": [
  {
   "cell_type": "code",
   "execution_count": 7,
   "id": "586ad52e",
   "metadata": {},
   "outputs": [
    {
     "name": "stdout",
     "output_type": "stream",
     "text": [
      "   number name\n",
      "0       0   AB\n",
      "1       1   BC\n",
      "hello\n",
      "15\n"
     ]
    }
   ],
   "source": [
    "# git add Midterm.ipynb\n",
    "# git commit -m \"change\"\n",
    "# git push origin main\n",
    "\n",
    "import numpy as np\n",
    "import pandas as pd\n",
    "import matplotlib.pyplot as plt\n",
    "\n",
    "\n",
    "\n",
    "print(pd.DataFrame({'number':[0,1],'name':['AB','BC']}))\n",
    "\n",
    "print(\"hello\")\n",
    "\n",
    "print(15)"
   ]
  }
 ],
 "metadata": {
  "kernelspec": {
   "display_name": "Python 3 (ipykernel)",
   "language": "python",
   "name": "python3"
  },
  "language_info": {
   "codemirror_mode": {
    "name": "ipython",
    "version": 3
   },
   "file_extension": ".py",
   "mimetype": "text/x-python",
   "name": "python",
   "nbconvert_exporter": "python",
   "pygments_lexer": "ipython3",
   "version": "3.11.4"
  }
 },
 "nbformat": 4,
 "nbformat_minor": 5
}
