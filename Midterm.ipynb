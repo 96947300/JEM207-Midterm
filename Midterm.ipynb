{
 "cells": [
  {
   "cell_type": "code",
   "execution_count": 92,
   "id": "78420410",
   "metadata": {},
   "outputs": [
    {
     "name": "stdout",
     "output_type": "stream",
     "text": [
      "<class 'pandas.core.frame.DataFrame'>\n",
      "RangeIndex: 1259 entries, 0 to 1258\n",
      "Data columns (total 7 columns):\n",
      " #   Column     Non-Null Count  Dtype  \n",
      "---  ------     --------------  -----  \n",
      " 0   Date       1259 non-null   object \n",
      " 1   High       1259 non-null   float64\n",
      " 2   Low        1259 non-null   float64\n",
      " 3   Open       1259 non-null   float64\n",
      " 4   Close      1259 non-null   float64\n",
      " 5   Volume     1259 non-null   float64\n",
      " 6   Adj Close  1259 non-null   float64\n",
      "dtypes: float64(6), object(1)\n",
      "memory usage: 69.0+ KB\n",
      "None\n",
      "              High          Low         Open        Close        Volume  \\\n",
      "count  1259.000000  1259.000000  1259.000000  1259.000000  1.259000e+03   \n",
      "mean     45.181025    44.188292    44.676497    44.690000  2.725558e+06   \n",
      "std       4.702805     4.595831     4.649478     4.647331  1.920526e+06   \n",
      "min      32.880001    32.029999    32.220001    32.259998  4.206000e+05   \n",
      "25%      41.705000    40.914999    41.335001    41.355000  1.712050e+06   \n",
      "50%      46.299999    45.310001    45.779999    45.770000  2.252000e+06   \n",
      "75%      48.865000    47.860001    48.375000    48.400002  3.091150e+06   \n",
      "max      57.540001    53.259998    53.720001    53.840000  3.068820e+07   \n",
      "\n",
      "         Adj Close  \n",
      "count  1259.000000  \n",
      "mean     41.373818  \n",
      "std       5.395424  \n",
      "min      28.368029  \n",
      "25%      36.994963  \n",
      "50%      42.451672  \n",
      "75%      45.458221  \n",
      "max      52.910000  \n"
     ]
    }
   ],
   "source": [
    "# git add Midterm.ipynb\n",
    "# git commit -m \"change\"\n",
    "# git push origin main\n",
    "\n",
    "import numpy as np\n",
    "import pandas as pd\n",
    "import matplotlib.pyplot as plt\n",
    "\n",
    "    \n",
    "cpb = pd.read_csv('C:/Users/caglaraydin/OneDrive/Masaüstü/charles/Python/Midterm/JEM207-Midterm/CPB.csv',\n",
    "                 sep=',',on_bad_lines='skip')  \n",
    "el = pd.read_csv('C:/Users/caglaraydin/OneDrive/Masaüstü/charles/Python/Midterm/JEM207-Midterm/EL.csv',\n",
    "                 sep=',',on_bad_lines='skip')  \n",
    "ogn = pd.read_csv('C:/Users/caglaraydin/OneDrive/Masaüstü/charles/Python/Midterm/JEM207-Midterm/OGN.csv',\n",
    "                 sep=',',on_bad_lines='skip')  \n",
    "vno = pd.read_csv('C:/Users/caglaraydin/OneDrive/Masaüstü/charles/Python/Midterm/JEM207-Midterm/VNO.csv',\n",
    "                 sep=',',on_bad_lines='skip')  \n",
    "xel = pd.read_csv('C:/Users/caglaraydin/OneDrive/Masaüstü/charles/Python/Midterm/JEM207-Midterm/XEL.csv',\n",
    "                 sep=',',on_bad_lines='skip')  \n",
    "cpb.head()\n",
    "print(cpb.info())\n",
    "print(cpb.describe())"
   ]
  },
  {
   "cell_type": "code",
   "execution_count": 102,
   "id": "4509cb6b",
   "metadata": {},
   "outputs": [
    {
     "data": {
      "text/plain": [
       "0       False\n",
       "1       False\n",
       "2       False\n",
       "3       False\n",
       "4       False\n",
       "        ...  \n",
       "1254     True\n",
       "1255     True\n",
       "1256     True\n",
       "1257     True\n",
       "1258     True\n",
       "Length: 1259, dtype: bool"
      ]
     },
     "execution_count": 102,
     "metadata": {},
     "output_type": "execute_result"
    }
   ],
   "source": [
    "#PART 1 Q1\n",
    "cpb.columns\n",
    "#cpb['Close']==cpb['Adj Close']\n",
    "#el['Close']==el['Adj Close']\n",
    "#ogn['Close']==ogn['Adj Close']\n",
    "#vno['Close']==vno['Adj Close']\n",
    "#xel['Close']==xel['Adj Close']\n",
    "#OGN seems to have no difference between close and adjusted close values"
   ]
  },
  {
   "cell_type": "code",
   "execution_count": 88,
   "id": "7f74bc6f",
   "metadata": {},
   "outputs": [
    {
     "name": "stdout",
     "output_type": "stream",
     "text": [
      "52.90999984741211\n",
      "28.36802864074707\n",
      "371.0988464355469\n",
      "119.33992004394533\n",
      "39.36000061035156\n",
      "23.309999465942383\n",
      "63.30339813232422\n",
      "21.09000015258789\n",
      "77.41000366210938\n",
      "38.39510726928711\n"
     ]
    }
   ],
   "source": [
    "#PART 1 Q2\n",
    "print(cpb['Adj Close'].max())\n",
    "print(cpb['Adj Close'].min())\n",
    "print(el['Adj Close'].max())\n",
    "print(el['Adj Close'].min())\n",
    "print(ogn['Adj Close'].max())\n",
    "print(ogn['Adj Close'].min())\n",
    "print(vno['Adj Close'].max())\n",
    "print(vno['Adj Close'].min())\n",
    "print(xel['Adj Close'].max())\n",
    "print(xel['Adj Close'].min())"
   ]
  },
  {
   "cell_type": "code",
   "execution_count": 111,
   "id": "bc53e2b8",
   "metadata": {},
   "outputs": [
    {
     "name": "stdout",
     "output_type": "stream",
     "text": [
      "count    1259.000000\n",
      "mean        3.713649\n",
      "std         0.136295\n",
      "min         3.345263\n",
      "25%         3.610782\n",
      "50%         3.748366\n",
      "75%         3.816794\n",
      "max         3.968592\n",
      "Name: Adj Close, dtype: float64\n",
      "count    1259.000000\n",
      "mean        5.308556\n",
      "std         0.320797\n",
      "min         4.781976\n",
      "25%         5.016754\n",
      "50%         5.282656\n",
      "75%         5.588894\n",
      "max         5.916468\n",
      "Name: Adj Close, dtype: float64\n",
      "count    379.000000\n",
      "mean       3.463414\n",
      "std        0.117196\n",
      "min        3.148882\n",
      "25%        3.394844\n",
      "50%        3.485539\n",
      "75%        3.550622\n",
      "max        3.672750\n",
      "Name: Adj Close, dtype: float64\n",
      "count    1259.000000\n",
      "mean        3.795781\n",
      "std         0.263151\n",
      "min         3.048799\n",
      "25%         3.589135\n",
      "50%         3.813133\n",
      "75%         4.027849\n",
      "max         4.147939\n",
      "Name: Adj Close, dtype: float64\n",
      "count    1259.000000\n",
      "mean        4.065299\n",
      "std         0.191531\n",
      "min         3.647930\n",
      "25%         3.912261\n",
      "50%         4.127184\n",
      "75%         4.215774\n",
      "max         4.349116\n",
      "Name: Adj Close, dtype: float64\n"
     ]
    }
   ],
   "source": [
    "#PART 1 Q3\n",
    "#cpb\n",
    "cpb_log = cpb['Adj Close'].apply(lambda x: np.log(x))\n",
    "\n",
    "print(cpb_log.describe())\n",
    "#el\n",
    "el_log = el['Adj Close'].apply(lambda x: np.log(x))\n",
    "\n",
    "print(el_log.describe())\n",
    "#ogn\n",
    "ogn_log = ogn['Adj Close'].apply(lambda x: np.log(x))\n",
    "\n",
    "print(ogn_log.describe())\n",
    "#vno\n",
    "vno_log = vno['Adj Close'].apply(lambda x: np.log(x))\n",
    "\n",
    "print(vno_log.describe())\n",
    "#xel\n",
    "xel_log = xel['Adj Close'].apply(lambda x: np.log(x))\n",
    "\n",
    "print(xel_log.describe())"
   ]
  },
  {
   "cell_type": "code",
   "execution_count": 189,
   "id": "a5e79ff8",
   "metadata": {},
   "outputs": [],
   "source": [
    "# PART 1 Q4\n",
    "#cpb['Low']\n",
    "#cpb['Low'].min()"
   ]
  },
  {
   "cell_type": "code",
   "execution_count": 115,
   "id": "378f3103",
   "metadata": {},
   "outputs": [
    {
     "name": "stdout",
     "output_type": "stream",
     "text": [
      "2725557.823669579\n",
      "1631506.9896743447\n",
      "2210159.6306068604\n",
      "1586441.1437648928\n",
      "3233399.5234312946\n"
     ]
    }
   ],
   "source": [
    "# PART 1 Q5\n",
    "print(cpb['Volume'].mean())\n",
    "print(el['Volume'].mean())\n",
    "print(ogn['Volume'].mean())\n",
    "print(vno['Volume'].mean())\n",
    "print(xel['Volume'].mean())"
   ]
  },
  {
   "cell_type": "code",
   "execution_count": 194,
   "id": "54864e86",
   "metadata": {},
   "outputs": [
    {
     "ename": "KeyError",
     "evalue": "'Adj Close'",
     "output_type": "error",
     "traceback": [
      "\u001b[1;31m---------------------------------------------------------------------------\u001b[0m",
      "\u001b[1;31mKeyError\u001b[0m                                  Traceback (most recent call last)",
      "File \u001b[1;32m~\\anaconda3\\Lib\\site-packages\\pandas\\core\\indexes\\base.py:3802\u001b[0m, in \u001b[0;36mIndex.get_loc\u001b[1;34m(self, key, method, tolerance)\u001b[0m\n\u001b[0;32m   3801\u001b[0m \u001b[38;5;28;01mtry\u001b[39;00m:\n\u001b[1;32m-> 3802\u001b[0m     \u001b[38;5;28;01mreturn\u001b[39;00m \u001b[38;5;28mself\u001b[39m\u001b[38;5;241m.\u001b[39m_engine\u001b[38;5;241m.\u001b[39mget_loc(casted_key)\n\u001b[0;32m   3803\u001b[0m \u001b[38;5;28;01mexcept\u001b[39;00m \u001b[38;5;167;01mKeyError\u001b[39;00m \u001b[38;5;28;01mas\u001b[39;00m err:\n",
      "File \u001b[1;32m~\\anaconda3\\Lib\\site-packages\\pandas\\_libs\\index.pyx:138\u001b[0m, in \u001b[0;36mpandas._libs.index.IndexEngine.get_loc\u001b[1;34m()\u001b[0m\n",
      "File \u001b[1;32m~\\anaconda3\\Lib\\site-packages\\pandas\\_libs\\index.pyx:165\u001b[0m, in \u001b[0;36mpandas._libs.index.IndexEngine.get_loc\u001b[1;34m()\u001b[0m\n",
      "File \u001b[1;32mpandas\\_libs\\hashtable_class_helper.pxi:5745\u001b[0m, in \u001b[0;36mpandas._libs.hashtable.PyObjectHashTable.get_item\u001b[1;34m()\u001b[0m\n",
      "File \u001b[1;32mpandas\\_libs\\hashtable_class_helper.pxi:5753\u001b[0m, in \u001b[0;36mpandas._libs.hashtable.PyObjectHashTable.get_item\u001b[1;34m()\u001b[0m\n",
      "\u001b[1;31mKeyError\u001b[0m: 'Adj Close'",
      "\nThe above exception was the direct cause of the following exception:\n",
      "\u001b[1;31mKeyError\u001b[0m                                  Traceback (most recent call last)",
      "Cell \u001b[1;32mIn[194], line 2\u001b[0m\n\u001b[0;32m      1\u001b[0m \u001b[38;5;66;03m# PART 1 Q6\u001b[39;00m\n\u001b[1;32m----> 2\u001b[0m cpb[\u001b[38;5;124m'\u001b[39m\u001b[38;5;124mAdj Close\u001b[39m\u001b[38;5;124m'\u001b[39m]\u001b[38;5;241m.\u001b[39mmax()\n",
      "File \u001b[1;32m~\\anaconda3\\Lib\\site-packages\\pandas\\core\\frame.py:3807\u001b[0m, in \u001b[0;36mDataFrame.__getitem__\u001b[1;34m(self, key)\u001b[0m\n\u001b[0;32m   3805\u001b[0m \u001b[38;5;28;01mif\u001b[39;00m \u001b[38;5;28mself\u001b[39m\u001b[38;5;241m.\u001b[39mcolumns\u001b[38;5;241m.\u001b[39mnlevels \u001b[38;5;241m>\u001b[39m \u001b[38;5;241m1\u001b[39m:\n\u001b[0;32m   3806\u001b[0m     \u001b[38;5;28;01mreturn\u001b[39;00m \u001b[38;5;28mself\u001b[39m\u001b[38;5;241m.\u001b[39m_getitem_multilevel(key)\n\u001b[1;32m-> 3807\u001b[0m indexer \u001b[38;5;241m=\u001b[39m \u001b[38;5;28mself\u001b[39m\u001b[38;5;241m.\u001b[39mcolumns\u001b[38;5;241m.\u001b[39mget_loc(key)\n\u001b[0;32m   3808\u001b[0m \u001b[38;5;28;01mif\u001b[39;00m is_integer(indexer):\n\u001b[0;32m   3809\u001b[0m     indexer \u001b[38;5;241m=\u001b[39m [indexer]\n",
      "File \u001b[1;32m~\\anaconda3\\Lib\\site-packages\\pandas\\core\\indexes\\base.py:3804\u001b[0m, in \u001b[0;36mIndex.get_loc\u001b[1;34m(self, key, method, tolerance)\u001b[0m\n\u001b[0;32m   3802\u001b[0m     \u001b[38;5;28;01mreturn\u001b[39;00m \u001b[38;5;28mself\u001b[39m\u001b[38;5;241m.\u001b[39m_engine\u001b[38;5;241m.\u001b[39mget_loc(casted_key)\n\u001b[0;32m   3803\u001b[0m \u001b[38;5;28;01mexcept\u001b[39;00m \u001b[38;5;167;01mKeyError\u001b[39;00m \u001b[38;5;28;01mas\u001b[39;00m err:\n\u001b[1;32m-> 3804\u001b[0m     \u001b[38;5;28;01mraise\u001b[39;00m \u001b[38;5;167;01mKeyError\u001b[39;00m(key) \u001b[38;5;28;01mfrom\u001b[39;00m \u001b[38;5;21;01merr\u001b[39;00m\n\u001b[0;32m   3805\u001b[0m \u001b[38;5;28;01mexcept\u001b[39;00m \u001b[38;5;167;01mTypeError\u001b[39;00m:\n\u001b[0;32m   3806\u001b[0m     \u001b[38;5;66;03m# If we have a listlike key, _check_indexing_error will raise\u001b[39;00m\n\u001b[0;32m   3807\u001b[0m     \u001b[38;5;66;03m#  InvalidIndexError. Otherwise we fall through and re-raise\u001b[39;00m\n\u001b[0;32m   3808\u001b[0m     \u001b[38;5;66;03m#  the TypeError.\u001b[39;00m\n\u001b[0;32m   3809\u001b[0m     \u001b[38;5;28mself\u001b[39m\u001b[38;5;241m.\u001b[39m_check_indexing_error(key)\n",
      "\u001b[1;31mKeyError\u001b[0m: 'Adj Close'"
     ]
    }
   ],
   "source": [
    "# PART 1 Q6\n",
    "#cpb['Adj Close'].max()"
   ]
  },
  {
   "cell_type": "code",
   "execution_count": null,
   "id": "d5b8ca99",
   "metadata": {},
   "outputs": [],
   "source": []
  },
  {
   "cell_type": "code",
   "execution_count": 192,
   "id": "b0c8be44",
   "metadata": {},
   "outputs": [
    {
     "data": {
      "text/plain": [
       "Index(['Symbol', 'Security', 'GICS_Sector', 'hq', 'included', 'Founded'], dtype='object')"
      ]
     },
     "execution_count": 192,
     "metadata": {},
     "output_type": "execute_result"
    }
   ],
   "source": [
    "cns = pd.read_csv('C:/Users/caglaraydin/OneDrive/Masaüstü/charles/Python/Midterm/JEM207-Midterm/companies_no_subindustry.csv',\n",
    "                 sep=',',on_bad_lines='skip')  \n",
    "cns.head()\n",
    "cns.columns"
   ]
  },
  {
   "cell_type": "code",
   "execution_count": 193,
   "id": "aa154aca",
   "metadata": {},
   "outputs": [
    {
     "data": {
      "text/plain": [
       "503"
      ]
     },
     "execution_count": 193,
     "metadata": {},
     "output_type": "execute_result"
    }
   ],
   "source": [
    "#PART 2 Q1\n",
    "cns['included'].isnull().count() # 503 companies"
   ]
  },
  {
   "cell_type": "code",
   "execution_count": 152,
   "id": "a22b4455",
   "metadata": {},
   "outputs": [
    {
     "data": {
      "text/plain": [
       "\"\\nprint(cns[cns['Founded']==cns['Founded'].min()]) #oldest: BK\\n\\nprint(cns[cns['Founded']==cns['Founded'].max()]) #youngest: WBD\\n\""
      ]
     },
     "execution_count": 152,
     "metadata": {},
     "output_type": "execute_result"
    }
   ],
   "source": [
    "#PART2 Q2\n",
    "cns['included'].dropna()\n",
    "\n",
    "\n",
    "print(cns[cns['Founded']==cns['Founded'].min()]) #oldest: BK\n",
    "\n",
    "print(cns[cns['Founded']==cns['Founded'].max()]) #youngest: WBD\n",
    "\n"
   ]
  },
  {
   "cell_type": "code",
   "execution_count": 188,
   "id": "a5ca273c",
   "metadata": {},
   "outputs": [],
   "source": [
    "#PART 2 Q3\n",
    "#cns_plot=cns.groupby('GICS_Sector')\n",
    "\n",
    "\n",
    "#plt.pie(cns_plot)"
   ]
  },
  {
   "cell_type": "code",
   "execution_count": 170,
   "id": "0ced3fc1",
   "metadata": {},
   "outputs": [
    {
     "data": {
      "text/plain": [
       "0        Saint Paul, Minnesota\n",
       "1         Milwaukee, Wisconsin\n",
       "2      North Chicago, Illinois\n",
       "3      North Chicago, Illinois\n",
       "4       Danvers, Massachusetts\n",
       "                ...           \n",
       "498       Louisville, Kentucky\n",
       "499     Lincolnshire, Illinois\n",
       "500            Warsaw, Indiana\n",
       "501       Salt Lake City, Utah\n",
       "502     Parsippany, New Jersey\n",
       "Name: hq, Length: 503, dtype: object"
      ]
     },
     "execution_count": 170,
     "metadata": {},
     "output_type": "execute_result"
    }
   ],
   "source": [
    "#PART 2 Q4\n",
    "#cns['hq'].replace(columns={})"
   ]
  },
  {
   "cell_type": "code",
   "execution_count": 175,
   "id": "6116119a",
   "metadata": {},
   "outputs": [
    {
     "data": {
      "text/html": [
       "<div>\n",
       "<style scoped>\n",
       "    .dataframe tbody tr th:only-of-type {\n",
       "        vertical-align: middle;\n",
       "    }\n",
       "\n",
       "    .dataframe tbody tr th {\n",
       "        vertical-align: top;\n",
       "    }\n",
       "\n",
       "    .dataframe thead th {\n",
       "        text-align: right;\n",
       "    }\n",
       "</style>\n",
       "<table border=\"1\" class=\"dataframe\">\n",
       "  <thead>\n",
       "    <tr style=\"text-align: right;\">\n",
       "      <th></th>\n",
       "      <th>Symbol</th>\n",
       "      <th>subindustry</th>\n",
       "    </tr>\n",
       "  </thead>\n",
       "  <tbody>\n",
       "    <tr>\n",
       "      <th>0</th>\n",
       "      <td>MMM</td>\n",
       "      <td>Industrial Conglomerates</td>\n",
       "    </tr>\n",
       "    <tr>\n",
       "      <th>1</th>\n",
       "      <td>AOS</td>\n",
       "      <td>Building Products</td>\n",
       "    </tr>\n",
       "    <tr>\n",
       "      <th>2</th>\n",
       "      <td>ABT</td>\n",
       "      <td>Health Care Equipment</td>\n",
       "    </tr>\n",
       "    <tr>\n",
       "      <th>3</th>\n",
       "      <td>ABBV</td>\n",
       "      <td>Pharmaceuticals</td>\n",
       "    </tr>\n",
       "    <tr>\n",
       "      <th>4</th>\n",
       "      <td>ABMD</td>\n",
       "      <td>Health Care Equipment</td>\n",
       "    </tr>\n",
       "    <tr>\n",
       "      <th>...</th>\n",
       "      <td>...</td>\n",
       "      <td>...</td>\n",
       "    </tr>\n",
       "    <tr>\n",
       "      <th>498</th>\n",
       "      <td>YUM</td>\n",
       "      <td>Restaurants</td>\n",
       "    </tr>\n",
       "    <tr>\n",
       "      <th>499</th>\n",
       "      <td>ZBRA</td>\n",
       "      <td>Electronic Equipment &amp; Instruments</td>\n",
       "    </tr>\n",
       "    <tr>\n",
       "      <th>500</th>\n",
       "      <td>ZBH</td>\n",
       "      <td>Health Care Equipment</td>\n",
       "    </tr>\n",
       "    <tr>\n",
       "      <th>501</th>\n",
       "      <td>ZION</td>\n",
       "      <td>Regional Banks</td>\n",
       "    </tr>\n",
       "    <tr>\n",
       "      <th>502</th>\n",
       "      <td>ZTS</td>\n",
       "      <td>Pharmaceuticals</td>\n",
       "    </tr>\n",
       "  </tbody>\n",
       "</table>\n",
       "<p>503 rows × 2 columns</p>\n",
       "</div>"
      ],
      "text/plain": [
       "    Symbol                         subindustry\n",
       "0      MMM            Industrial Conglomerates\n",
       "1      AOS                   Building Products\n",
       "2      ABT               Health Care Equipment\n",
       "3     ABBV                     Pharmaceuticals\n",
       "4     ABMD               Health Care Equipment\n",
       "..     ...                                 ...\n",
       "498    YUM                         Restaurants\n",
       "499   ZBRA  Electronic Equipment & Instruments\n",
       "500    ZBH               Health Care Equipment\n",
       "501   ZION                      Regional Banks\n",
       "502    ZTS                     Pharmaceuticals\n",
       "\n",
       "[503 rows x 2 columns]"
      ]
     },
     "execution_count": 175,
     "metadata": {},
     "output_type": "execute_result"
    }
   ],
   "source": [
    "#PART 2 Q5\n",
    "cs = pd.read_csv('C:/Users/caglaraydin/OneDrive/Masaüstü/charles/Python/Midterm/JEM207-Midterm/companies_subindustry.csv',\n",
    "                 sep=',',on_bad_lines='skip')  \n",
    "cns.merge(cs)"
   ]
  },
  {
   "cell_type": "code",
   "execution_count": null,
   "id": "5c6e42b6",
   "metadata": {},
   "outputs": [],
   "source": []
  }
 ],
 "metadata": {
  "kernelspec": {
   "display_name": "Python 3 (ipykernel)",
   "language": "python",
   "name": "python3"
  },
  "language_info": {
   "codemirror_mode": {
    "name": "ipython",
    "version": 3
   },
   "file_extension": ".py",
   "mimetype": "text/x-python",
   "name": "python",
   "nbconvert_exporter": "python",
   "pygments_lexer": "ipython3",
   "version": "3.11.4"
  }
 },
 "nbformat": 4,
 "nbformat_minor": 5
}
